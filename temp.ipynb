{
 "cells": [
  {
   "cell_type": "code",
   "execution_count": 1,
   "metadata": {},
   "outputs": [],
   "source": [
    "import jax\n",
    "from jax import numpy as jnp"
   ]
  },
  {
   "cell_type": "code",
   "execution_count": 143,
   "metadata": {},
   "outputs": [
    {
     "data": {
      "text/plain": [
       "Array(nan, dtype=float32)"
      ]
     },
     "execution_count": 143,
     "metadata": {},
     "output_type": "execute_result"
    }
   ],
   "source": [
    "jnp.linalg.norm(jnp.array([1, 2, jnp.nan]))\n",
    "\n",
    "\n",
    "x = jnp.array([jnp.nan, jnp.nan])\n",
    "idx = jnp.nanargmax(x)\n",
    "x[idx]"
   ]
  },
  {
   "cell_type": "code",
   "execution_count": 90,
   "metadata": {},
   "outputs": [
    {
     "data": {
      "text/plain": [
       "Array([[nan, nan, nan],\n",
       "       [nan, nan, nan],\n",
       "       [ 0.,  0.,  0.],\n",
       "       [nan, nan, nan]], dtype=float32, weak_type=True)"
      ]
     },
     "execution_count": 90,
     "metadata": {},
     "output_type": "execute_result"
    }
   ],
   "source": [
    "@jax.jit\n",
    "def run(x):\n",
    "    k = jnp.min(x)\n",
    "    mask = x == k\n",
    "    x = jnp.where(mask, x, jnp.nan)\n",
    "    return x\n",
    "    \n",
    "x = jnp.array([[3, 3, 3],\n",
    "               [2, 2, 2],\n",
    "               [0, 0, 0],\n",
    "               [1, 1, 1]])\n",
    "run(x)"
   ]
  },
  {
   "cell_type": "code",
   "execution_count": 130,
   "metadata": {},
   "outputs": [
    {
     "data": {
      "text/plain": [
       "(Array(2, dtype=int32), Array(-9.536743e-07, dtype=float32))"
      ]
     },
     "execution_count": 130,
     "metadata": {},
     "output_type": "execute_result"
    }
   ],
   "source": [
    "mat = jnp.array([[1., 2., 4.],\n",
    "                 [1.0000001, 2, 4.],\n",
    "                 [3, 3, 3]])\n",
    "\n",
    "jnp.linalg.matrix_rank(mat), jnp.linalg.det(mat)"
   ]
  },
  {
   "cell_type": "code",
   "execution_count": 137,
   "metadata": {},
   "outputs": [
    {
     "data": {
      "text/plain": [
       "(Array([[1.        , 1.7320508 ],\n",
       "        [0.        , 0.57735026]], dtype=float32),\n",
       " Array([[0.        , 0.        , 1.        ],\n",
       "        [0.57735026, 0.57735026, 0.57735026]], dtype=float32),\n",
       " Array([[0.        , 0.        , 1.        ],\n",
       "        [0.99999994, 0.99999994, 0.99999994],\n",
       "        [0.        , 0.        , 0.        ],\n",
       "        [0.3333333 , 0.3333333 , 0.3333333 ]], dtype=float32),\n",
       " Array([[ 1.0000000e+00,  1.0000000e+00,  0.0000000e+00],\n",
       "        [ 5.9604645e-08,  5.9604645e-08,  5.9604645e-08],\n",
       "        [ 1.0000000e+00,  0.0000000e+00,  0.0000000e+00],\n",
       "        [ 6.6666669e-01, -3.3333331e-01, -3.3333331e-01]], dtype=float32),\n",
       " Array([[1.4142135e+00, 1.0323827e-07],\n",
       "        [1.0000000e+00, 8.1649655e-01]], dtype=float32))"
      ]
     },
     "execution_count": 137,
     "metadata": {},
     "output_type": "execute_result"
    }
   ],
   "source": [
    "x = jnp.array([[1, 1, 1],\n",
    "               [1, 0, 0]])\n",
    "y = jnp.array([[0, 0, 2],\n",
    "                [1, 1, 1]])\n",
    "y_norm = jnp.linalg.norm(y, axis=1)\n",
    "\n",
    "proj_len = x @ y.T / y_norm\n",
    "unit_vec = y / y_norm[:, None]\n",
    "proj_vec = jnp.reshape(proj_len, (proj_len.size, 1)) * jnp.tile(unit_vec, (len(x), 1))\n",
    "h = jnp.repeat(x, len(y), axis=0) - proj_vec\n",
    "d = jnp.reshape(jnp.linalg.norm(h, axis=1), (len(x), len(y)))\n",
    "\n",
    "proj_len, unit_vec, proj_vec, h, d"
   ]
  },
  {
   "cell_type": "code",
   "execution_count": 147,
   "metadata": {},
   "outputs": [
    {
     "data": {
      "text/plain": [
       "(Array(6, dtype=int32), Array(4, dtype=int32, weak_type=True))"
      ]
     },
     "execution_count": 147,
     "metadata": {},
     "output_type": "execute_result"
    }
   ],
   "source": [
    "@jax.jit\n",
    "def run(size, x):\n",
    "    size = 4\n",
    "    def while_body(val):\n",
    "        ans, i = val\n",
    "        return ans+x[i], i+1\n",
    "    \n",
    "    return jax.lax.while_loop(lambda val: x[val[1]] < size,\n",
    "                       while_body,\n",
    "                       (0, 0))\n",
    "\n",
    "run(10, jnp.arange(5))"
   ]
  },
  {
   "cell_type": "code",
   "execution_count": 144,
   "metadata": {},
   "outputs": [
    {
     "data": {
      "text/plain": [
       "(Array([[1.4142135e+00, 1.0323827e-07, 1.4142135e+00, 1.0000000e+00],\n",
       "        [1.0000000e+00, 8.1649655e-01, 0.0000000e+00, 7.0710677e-01]],      dtype=float32),\n",
       " Array([1, 2], dtype=int32),\n",
       " Array([1.0323827e-07, 0.0000000e+00], dtype=float32))"
      ]
     },
     "execution_count": 144,
     "metadata": {},
     "output_type": "execute_result"
    }
   ],
   "source": [
    "@jax.jit\n",
    "def run(x, y):\n",
    "    def perpendicular_distance(x, y):\n",
    "        y_norm = jnp.linalg.norm(y, axis=1)\n",
    "        proj_len = x @ y.T / y_norm\n",
    "        unit_vec = y / y_norm[:, None]\n",
    "        proj_vec = jnp.reshape(proj_len, (proj_len.size, 1)) * jnp.tile(unit_vec, (len(x), 1))\n",
    "        prep_vec = jnp.repeat(x, len(y), axis=0) - proj_vec\n",
    "        dist = jnp.reshape(jnp.linalg.norm(prep_vec, axis=1), (len(x), len(y)))\n",
    "        return dist\n",
    "    \n",
    "    dist = perpendicular_distance(x, y)\n",
    "    pi = jnp.argmin(dist, axis=1)\n",
    "    d = dist[jnp.arange(len(x)), pi]\n",
    "    return dist, pi, d\n",
    "\n",
    "\n",
    "x = jnp.array([[1, 1, 1],\n",
    "               [1, 0, 0]])\n",
    "y = jnp.array([[0, 0, 2],\n",
    "               [1, 1, 1],\n",
    "               [3, 0, 0],\n",
    "               [1, 1, 0]])\n",
    "run(x, y)"
   ]
  },
  {
   "cell_type": "code",
   "execution_count": 215,
   "metadata": {},
   "outputs": [
    {
     "data": {
      "text/plain": [
       "(Array([ True, False,  True, False,  True, False,  True], dtype=bool),\n",
       " Array(0, dtype=int32))"
      ]
     },
     "execution_count": 215,
     "metadata": {},
     "output_type": "execute_result"
    }
   ],
   "source": [
    "@jax.jit\n",
    "def run(x, mask):\n",
    "    key = jax.random.PRNGKey(x[0] * x[-1])\n",
    "    temp = jax.random.randint(key, (1, len(x)), 0, len(x))\n",
    "    temp = temp + mask * len(x)\n",
    "    return jnp.argmax(temp)\n",
    "\n",
    "x = jnp.array([1, 2, 3, 4, 5, 6, 7])\n",
    "mask = x % 2 != 0\n",
    "\n",
    "mask, run(x, mask)"
   ]
  },
  {
   "cell_type": "code",
   "execution_count": 179,
   "metadata": {},
   "outputs": [
    {
     "data": {
      "text/plain": [
       "(Array([2], dtype=int32),\n",
       " Array([8, 1, 7], dtype=int32),\n",
       " Array([8, 1, 7], dtype=int32))"
      ]
     },
     "execution_count": 179,
     "metadata": {},
     "output_type": "execute_result"
    }
   ],
   "source": [
    "import jax.random as random\n",
    "key = random.PRNGKey(0) # generate a random key\n",
    "random.randint(key, shape=(1, ), minval=0, maxval=10),  random.randint(key, shape=(3,), minval=0, maxval=10),  random.randint(key, shape=(3,), minval=0, maxval=10)\n"
   ]
  },
  {
   "cell_type": "code",
   "execution_count": null,
   "metadata": {},
   "outputs": [],
   "source": [
    "# weight = jnp.full((self.n_objs, self.n_objs), 1e-6) + jnp.eye(self.n_objs)\n",
    "# asf = weight @ merged_fitness.T\n",
    "# extreme = asf"
   ]
  }
 ],
 "metadata": {
  "kernelspec": {
   "display_name": "evox",
   "language": "python",
   "name": "python3"
  },
  "language_info": {
   "codemirror_mode": {
    "name": "ipython",
    "version": 3
   },
   "file_extension": ".py",
   "mimetype": "text/x-python",
   "name": "python",
   "nbconvert_exporter": "python",
   "pygments_lexer": "ipython3",
   "version": "3.9.16"
  },
  "orig_nbformat": 4
 },
 "nbformat": 4,
 "nbformat_minor": 2
}
