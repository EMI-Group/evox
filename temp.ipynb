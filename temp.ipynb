{
 "cells": [
  {
   "cell_type": "code",
   "execution_count": 18,
   "metadata": {},
   "outputs": [
    {
     "data": {
      "text/plain": [
       "Array([1, 2, 1, 1, 1], dtype=int32)"
      ]
     },
     "execution_count": 18,
     "metadata": {},
     "output_type": "execute_result"
    }
   ],
   "source": [
    "import jax\n",
    "from jax import numpy as jnp\n",
    "\n",
    "x = jnp.array([1, 2, 3, 4, 5])\n",
    "mask = x <= 2\n",
    "jnp.where(mask, x, 1)"
   ]
  },
  {
   "cell_type": "code",
   "execution_count": 59,
   "metadata": {},
   "outputs": [
    {
     "data": {
      "text/plain": [
       "Array(nan, dtype=float32)"
      ]
     },
     "execution_count": 59,
     "metadata": {},
     "output_type": "execute_result"
    }
   ],
   "source": [
    "jnp.nanmax(jnp.array([jnp.nan, jnp.nan]))"
   ]
  },
  {
   "cell_type": "code",
   "execution_count": 58,
   "metadata": {},
   "outputs": [
    {
     "name": "stdout",
     "output_type": "stream",
     "text": [
      "[[0 1 7]\n",
      " [2 1 2]\n",
      " [4 0 0]\n",
      " [2 4 1]]\n",
      "[[[0.0000000e+00 1.0000000e+06 7.0000000e+06]\n",
      "  [0.0000000e+00 9.9999905e-01 7.0000000e+06]\n",
      "  [0.0000000e+00 1.0000000e+06 6.9999933e+00]]\n",
      "\n",
      " [[1.9999981e+00 1.0000000e+06 2.0000000e+06]\n",
      "  [2.0000000e+06 9.9999905e-01 2.0000000e+06]\n",
      "  [2.0000000e+06 1.0000000e+06 1.9999981e+00]]\n",
      "\n",
      " [[3.9999962e+00 0.0000000e+00 0.0000000e+00]\n",
      "  [4.0000000e+06 0.0000000e+00 0.0000000e+00]\n",
      "  [4.0000000e+06 0.0000000e+00 0.0000000e+00]]\n",
      "\n",
      " [[1.9999981e+00 4.0000000e+06 1.0000000e+06]\n",
      "  [2.0000000e+06 3.9999962e+00 1.0000000e+06]\n",
      "  [2.0000000e+06 4.0000000e+06 9.9999905e-01]]]\n",
      "[[7.0000000e+06 7.0000000e+06 1.0000000e+06]\n",
      " [2.0000000e+06 2.0000000e+06 2.0000000e+06]\n",
      " [3.9999962e+00 4.0000000e+06 4.0000000e+06]\n",
      " [4.0000000e+06 2.0000000e+06 4.0000000e+06]]\n",
      "[2 1 0]\n"
     ]
    }
   ],
   "source": [
    "size = 4\n",
    "n = 3\n",
    "weight = jnp.eye(n, n) + 1e-6\n",
    "fitness = jnp.array([[0, 2, 7],\n",
    "                     [2, 2, 2],\n",
    "                     [4, 1, 0],\n",
    "                     [2, 5, 1]])\n",
    "ideal = jnp.nanmin(fitness, axis=0)\n",
    "offset_fitness = fitness-ideal\n",
    "\n",
    "print(offset_fitness)\n",
    "\n",
    "asf = jnp.repeat(offset_fitness, n, axis=0).reshape(size, n, n) / weight\n",
    "\n",
    "print(asf)\n",
    "\n",
    "asf = jnp.max(asf, axis=2)\n",
    "\n",
    "ex_idx = jnp.argmin(asf, axis=0)\n",
    "\n",
    "print(asf)\n",
    "\n",
    "print(ex_idx)\n"
   ]
  },
  {
   "cell_type": "code",
   "execution_count": 99,
   "metadata": {},
   "outputs": [
    {
     "data": {
      "text/plain": [
       "(Array([[0, 0],\n",
       "        [5, 5],\n",
       "        [1, 1],\n",
       "        [6, 6]], dtype=int32),\n",
       " Array([[1., 2., 3.],\n",
       "        [3., 7., 1.],\n",
       "        [7., 4., 2.],\n",
       "        [4., 3., 7.]], dtype=float32, weak_type=True))"
      ]
     },
     "execution_count": 99,
     "metadata": {},
     "output_type": "execute_result"
    }
   ],
   "source": [
    "import jax\n",
    "from functools import partial\n",
    "from jax import numpy as jnp\n",
    "\n",
    "@partial(jax.jit, static_argnames=('pop_size', 'n_objs'))\n",
    "def run(pop_size, n_objs, ref, population, next_generation, self_fitness, fitness, rank):\n",
    "    merged_pop = jnp.concatenate([population, next_generation], axis=0)\n",
    "    merged_fitness = jnp.concatenate([self_fitness, fitness], axis=0)\n",
    "\n",
    "    order = jnp.argsort(rank)\n",
    "    rank = rank[order]\n",
    "    ranked_pop = merged_pop[order]\n",
    "    ranked_fitness = merged_fitness[order]\n",
    "    last_rank = rank[pop_size]\n",
    "    ranked_fitness = jnp.where(jnp.repeat((rank <= last_rank)[:, None], n_objs, axis=1), ranked_fitness, jnp.nan)\n",
    "    \n",
    "    # Normalize\n",
    "    ideal = jnp.nanmin(ranked_fitness, axis=0)\n",
    "    offset_fitness = ranked_fitness - ideal\n",
    "    weight = jnp.eye(n_objs, n_objs) + 1e-6\n",
    "    weighted = jnp.repeat(offset_fitness, n_objs, axis=0).reshape(len(offset_fitness), n_objs, n_objs) / weight\n",
    "    asf = jnp.nanmax(weighted, axis=2)\n",
    "    ex_idx =jnp.argmin(asf, axis=0)\n",
    "    extreme = offset_fitness[ex_idx]\n",
    "    \n",
    "    def extreme_point(val):\n",
    "        extreme = val[0]\n",
    "        plane = jnp.linalg.solve(extreme, jnp.ones(n_objs))\n",
    "        intercept = 1/ plane\n",
    "        return intercept\n",
    "    \n",
    "    def worst_point(val):\n",
    "        return jnp.nanmax(ranked_fitness, axis=0)\n",
    "    \n",
    "    nadir_point = jax.lax.cond(jnp.linalg.matrix_rank(extreme) == n_objs,\n",
    "                                extreme_point, worst_point,\n",
    "                                (extreme, offset_fitness))\n",
    "    normalized_fitness = offset_fitness / nadir_point\n",
    "    \n",
    "    # Associate\n",
    "    def perpendicular_distance(x, y):\n",
    "        y_norm = jnp.linalg.norm(y, axis=1)\n",
    "        proj_len = x @ y.T / y_norm\n",
    "        unit_vec = y / y_norm[:, None]\n",
    "        proj_vec = jnp.reshape(proj_len, (proj_len.size, 1)) * jnp.tile(unit_vec, (len(x), 1))\n",
    "        prep_vec = jnp.repeat(x, len(y), axis=0) - proj_vec\n",
    "        dist = jnp.reshape(jnp.linalg.norm(prep_vec, axis=1), (len(x), len(y)))\n",
    "        return dist\n",
    "    \n",
    "    dist = perpendicular_distance(ranked_fitness, ref)\n",
    "    pi = jnp.nanargmin(dist, axis=1)\n",
    "    d = dist[jnp.arange(len(normalized_fitness)), pi]\n",
    "    \n",
    "    # Niche\n",
    "    def niche_loop(val):\n",
    "        def nope(val):\n",
    "            idx, i, rho, j = val\n",
    "            rho = rho.at[j].set(pop_size)\n",
    "            return idx, i, rho, j\n",
    "        \n",
    "        def have(val):\n",
    "            def zero(val):\n",
    "                idx, i, rho, j = val\n",
    "                idx = idx.at[i].set(jnp.nanargmin(jnp.where(pi == j, d, jnp.nan)))\n",
    "                rho = rho.at[j].add(1)\n",
    "                return idx, i+1, rho, j\n",
    "            \n",
    "            def already(val):\n",
    "                idx, i, rho, j = val\n",
    "                key = jax.random.PRNGKey(i * j)\n",
    "                temp = jax.random.randint(key, (1, len(ranked_pop)), 0, pop_size)\n",
    "                temp = temp + (pi == j) * pop_size\n",
    "                idx = idx.at[i].set(jnp.argmax(temp))\n",
    "                rho = rho.at[j].add(1)\n",
    "                return idx, i+1, rho, j\n",
    "            \n",
    "            return jax.lax.cond(rho[val[3]], already, zero, val)\n",
    "        \n",
    "        idx, i, rho = val\n",
    "        j = jnp.argmin(rho)\n",
    "        idx, i, rho, j = jax.lax.cond(jnp.sum(pi == j), have, nope, (idx, i, rho, j))\n",
    "        return idx, i, rho\n",
    "    \n",
    "    survivor_idx = jnp.arange(pop_size)\n",
    "    rho = jnp.bincount(jnp.where(rank < last_rank, pi, len(ref)), length=len(ref))\n",
    "    pi = jnp.where(rank == last_rank, pi, -1)\n",
    "    d = jnp.where(rank == last_rank, d, jnp.nan)\n",
    "    survivor_idx, _, _ = jax.lax.while_loop(lambda val: val[1] < pop_size,\n",
    "                                      niche_loop,\n",
    "                                      (survivor_idx, jnp.sum(rho), rho))\n",
    "    # return survivor_idx, survivor_idx\n",
    "    return ranked_pop[survivor_idx], ranked_fitness[survivor_idx]\n",
    "\n",
    "pop_size = 4\n",
    "n_objs = 3\n",
    "ref = jnp.array([[1, 0, 0],\n",
    "                 [0, 1, 0],\n",
    "                 [0, 0, 1],\n",
    "                 [1, 1, 1]])\n",
    "population = jnp.array([[0, 0],\n",
    "                        [1, 1],\n",
    "                        [2, 2],\n",
    "                        [3, 3]])\n",
    "next_generation = jnp.array([[4, 4],\n",
    "                             [5, 5],\n",
    "                             [6, 6],\n",
    "                             [7, 7]])\n",
    "self_fitness = jnp.array([[1, 2, 3],\n",
    "                          [7, 4, 2],\n",
    "                          [5, 4, 8],\n",
    "                          [2, 9, 6]])\n",
    "fitness = jnp.array([[5, 6, 7],\n",
    "                     [3, 7, 1],\n",
    "                     [4, 3, 7],\n",
    "                     [8, 8, 6]])\n",
    "rank = jnp.array([0, 1, 2, 1, 2, 0, 1, 2])\n",
    "\n",
    "run(pop_size, n_objs, ref, population, next_generation, self_fitness, fitness, rank)"
   ]
  },
  {
   "cell_type": "code",
   "execution_count": 90,
   "metadata": {},
   "outputs": [
    {
     "data": {
      "text/plain": [
       "Array([[nan, nan, nan],\n",
       "       [nan, nan, nan],\n",
       "       [ 0.,  0.,  0.],\n",
       "       [nan, nan, nan]], dtype=float32, weak_type=True)"
      ]
     },
     "execution_count": 90,
     "metadata": {},
     "output_type": "execute_result"
    }
   ],
   "source": [
    "@jax.jit\n",
    "def run(x):\n",
    "    k = jnp.min(x)\n",
    "    mask = x == k\n",
    "    x = jnp.where(mask, x, jnp.nan)\n",
    "    return x\n",
    "    \n",
    "x = jnp.array([[3, 3, 3],\n",
    "               [2, 2, 2],\n",
    "               [0, 0, 0],\n",
    "               [1, 1, 1]])\n",
    "run(x)"
   ]
  },
  {
   "cell_type": "code",
   "execution_count": 130,
   "metadata": {},
   "outputs": [
    {
     "data": {
      "text/plain": [
       "(Array(2, dtype=int32), Array(-9.536743e-07, dtype=float32))"
      ]
     },
     "execution_count": 130,
     "metadata": {},
     "output_type": "execute_result"
    }
   ],
   "source": [
    "mat = jnp.array([[1., 2., 4.],\n",
    "                 [1.0000001, 2, 4.],\n",
    "                 [3, 3, 3]])\n",
    "\n",
    "jnp.linalg.matrix_rank(mat), jnp.linalg.det(mat)"
   ]
  },
  {
   "cell_type": "code",
   "execution_count": 137,
   "metadata": {},
   "outputs": [
    {
     "data": {
      "text/plain": [
       "(Array([[1.        , 1.7320508 ],\n",
       "        [0.        , 0.57735026]], dtype=float32),\n",
       " Array([[0.        , 0.        , 1.        ],\n",
       "        [0.57735026, 0.57735026, 0.57735026]], dtype=float32),\n",
       " Array([[0.        , 0.        , 1.        ],\n",
       "        [0.99999994, 0.99999994, 0.99999994],\n",
       "        [0.        , 0.        , 0.        ],\n",
       "        [0.3333333 , 0.3333333 , 0.3333333 ]], dtype=float32),\n",
       " Array([[ 1.0000000e+00,  1.0000000e+00,  0.0000000e+00],\n",
       "        [ 5.9604645e-08,  5.9604645e-08,  5.9604645e-08],\n",
       "        [ 1.0000000e+00,  0.0000000e+00,  0.0000000e+00],\n",
       "        [ 6.6666669e-01, -3.3333331e-01, -3.3333331e-01]], dtype=float32),\n",
       " Array([[1.4142135e+00, 1.0323827e-07],\n",
       "        [1.0000000e+00, 8.1649655e-01]], dtype=float32))"
      ]
     },
     "execution_count": 137,
     "metadata": {},
     "output_type": "execute_result"
    }
   ],
   "source": [
    "x = jnp.array([[1, 1, 1],\n",
    "               [1, 0, 0]])\n",
    "y = jnp.array([[0, 0, 2],\n",
    "                [1, 1, 1]])\n",
    "y_norm = jnp.linalg.norm(y, axis=1)\n",
    "\n",
    "proj_len = x @ y.T / y_norm\n",
    "unit_vec = y / y_norm[:, None]\n",
    "proj_vec = jnp.reshape(proj_len, (proj_len.size, 1)) * jnp.tile(unit_vec, (len(x), 1))\n",
    "h = jnp.repeat(x, len(y), axis=0) - proj_vec\n",
    "d = jnp.reshape(jnp.linalg.norm(h, axis=1), (len(x), len(y)))\n",
    "\n",
    "proj_len, unit_vec, proj_vec, h, d"
   ]
  },
  {
   "cell_type": "code",
   "execution_count": 147,
   "metadata": {},
   "outputs": [
    {
     "data": {
      "text/plain": [
       "(Array(6, dtype=int32), Array(4, dtype=int32, weak_type=True))"
      ]
     },
     "execution_count": 147,
     "metadata": {},
     "output_type": "execute_result"
    }
   ],
   "source": [
    "@jax.jit\n",
    "def run(size, x):\n",
    "    size = 4\n",
    "    def while_body(val):\n",
    "        ans, i = val\n",
    "        return ans+x[i], i+1\n",
    "    \n",
    "    return jax.lax.while_loop(lambda val: x[val[1]] < size,\n",
    "                       while_body,\n",
    "                       (0, 0))\n",
    "\n",
    "run(10, jnp.arange(5))"
   ]
  },
  {
   "cell_type": "code",
   "execution_count": 144,
   "metadata": {},
   "outputs": [
    {
     "data": {
      "text/plain": [
       "(Array([[1.4142135e+00, 1.0323827e-07, 1.4142135e+00, 1.0000000e+00],\n",
       "        [1.0000000e+00, 8.1649655e-01, 0.0000000e+00, 7.0710677e-01]],      dtype=float32),\n",
       " Array([1, 2], dtype=int32),\n",
       " Array([1.0323827e-07, 0.0000000e+00], dtype=float32))"
      ]
     },
     "execution_count": 144,
     "metadata": {},
     "output_type": "execute_result"
    }
   ],
   "source": [
    "@jax.jit\n",
    "def run(x, y):\n",
    "    def perpendicular_distance(x, y):\n",
    "        y_norm = jnp.linalg.norm(y, axis=1)\n",
    "        proj_len = x @ y.T / y_norm\n",
    "        unit_vec = y / y_norm[:, None]\n",
    "        proj_vec = jnp.reshape(proj_len, (proj_len.size, 1)) * jnp.tile(unit_vec, (len(x), 1))\n",
    "        prep_vec = jnp.repeat(x, len(y), axis=0) - proj_vec\n",
    "        dist = jnp.reshape(jnp.linalg.norm(prep_vec, axis=1), (len(x), len(y)))\n",
    "        return dist\n",
    "    \n",
    "    dist = perpendicular_distance(x, y)\n",
    "    pi = jnp.argmin(dist, axis=1)\n",
    "    d = dist[jnp.arange(len(x)), pi]\n",
    "    return dist, pi, d\n",
    "\n",
    "\n",
    "x = jnp.array([[1, 1, 1],\n",
    "               [1, 0, 0]])\n",
    "y = jnp.array([[0, 0, 2],\n",
    "               [1, 1, 1],\n",
    "               [3, 0, 0],\n",
    "               [1, 1, 0]])\n",
    "run(x, y)"
   ]
  },
  {
   "cell_type": "code",
   "execution_count": 215,
   "metadata": {},
   "outputs": [
    {
     "data": {
      "text/plain": [
       "(Array([ True, False,  True, False,  True, False,  True], dtype=bool),\n",
       " Array(0, dtype=int32))"
      ]
     },
     "execution_count": 215,
     "metadata": {},
     "output_type": "execute_result"
    }
   ],
   "source": [
    "@jax.jit\n",
    "def run(x, mask):\n",
    "    key = jax.random.PRNGKey(x[0] * x[-1])\n",
    "    temp = jax.random.randint(key, (1, len(x)), 0, len(x))\n",
    "    temp = temp + mask * len(x)\n",
    "    return jnp.argmax(temp)\n",
    "\n",
    "x = jnp.array([1, 2, 3, 4, 5, 6, 7])\n",
    "mask = x % 2 != 0\n",
    "\n",
    "mask, run(x, mask)"
   ]
  },
  {
   "cell_type": "code",
   "execution_count": 179,
   "metadata": {},
   "outputs": [
    {
     "data": {
      "text/plain": [
       "(Array([2], dtype=int32),\n",
       " Array([8, 1, 7], dtype=int32),\n",
       " Array([8, 1, 7], dtype=int32))"
      ]
     },
     "execution_count": 179,
     "metadata": {},
     "output_type": "execute_result"
    }
   ],
   "source": [
    "import jax.random as random\n",
    "key = random.PRNGKey(0) # generate a random key\n",
    "random.randint(key, shape=(1, ), minval=0, maxval=10),  random.randint(key, shape=(3,), minval=0, maxval=10),  random.randint(key, shape=(3,), minval=0, maxval=10)\n"
   ]
  },
  {
   "cell_type": "code",
   "execution_count": null,
   "metadata": {},
   "outputs": [],
   "source": [
    "# weight = jnp.full((self.n_objs, self.n_objs), 1e-6) + jnp.eye(self.n_objs)\n",
    "# asf = weight @ merged_fitness.T\n",
    "# extreme = asf"
   ]
  }
 ],
 "metadata": {
  "kernelspec": {
   "display_name": "evox",
   "language": "python",
   "name": "python3"
  },
  "language_info": {
   "codemirror_mode": {
    "name": "ipython",
    "version": 3
   },
   "file_extension": ".py",
   "mimetype": "text/x-python",
   "name": "python",
   "nbconvert_exporter": "python",
   "pygments_lexer": "ipython3",
   "version": "3.9.17"
  },
  "orig_nbformat": 4
 },
 "nbformat": 4,
 "nbformat_minor": 2
}
