{
 "cells": [
  {
   "cell_type": "code",
   "execution_count": 113,
   "metadata": {},
   "outputs": [
    {
     "data": {
      "text/plain": [
       "Array([1.        , 0.5       , 0.33333334], dtype=float32)"
      ]
     },
     "execution_count": 113,
     "metadata": {},
     "output_type": "execute_result"
    }
   ],
   "source": [
    "from jax import numpy as jnp\n",
    "\n",
    "a = jnp.array([1, 2, 3])\n",
    "\n",
    "b = jnp.array([[3, 2, 1],\n",
    "               [1, 2, 3],\n",
    "               [3, 2, 1]])\n",
    "\n",
    "plane = jnp.array([1, 2, 3])\n",
    "p = jnp.eye(3)\n",
    "plane, p\n",
    "\n",
    "1/ (plane @ jnp.eye(3))"
   ]
  },
  {
   "cell_type": "code",
   "execution_count": null,
   "metadata": {},
   "outputs": [],
   "source": [
    "# weight = jnp.full((self.n_objs, self.n_objs), 1e-6) + jnp.eye(self.n_objs)\n",
    "# asf = weight @ merged_fitness.T\n",
    "# extreme = asf"
   ]
  }
 ],
 "metadata": {
  "kernelspec": {
   "display_name": "evox",
   "language": "python",
   "name": "python3"
  },
  "language_info": {
   "codemirror_mode": {
    "name": "ipython",
    "version": 3
   },
   "file_extension": ".py",
   "mimetype": "text/x-python",
   "name": "python",
   "nbconvert_exporter": "python",
   "pygments_lexer": "ipython3",
   "version": "3.9.16"
  },
  "orig_nbformat": 4
 },
 "nbformat": 4,
 "nbformat_minor": 2
}
