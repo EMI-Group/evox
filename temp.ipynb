{
 "cells": [
  {
   "cell_type": "code",
   "execution_count": 9,
   "metadata": {},
   "outputs": [],
   "source": [
    "import jax\n",
    "from jax import numpy as jnp"
   ]
  },
  {
   "cell_type": "code",
   "execution_count": 119,
   "metadata": {},
   "outputs": [
    {
     "data": {
      "text/plain": [
       "Array([1.4142135, 1.4142135, 1.4142135, 0.       ], dtype=float32)"
      ]
     },
     "execution_count": 119,
     "metadata": {},
     "output_type": "execute_result"
    }
   ],
   "source": [
    "ref = jnp.array([[1, 0, 0],\n",
    "                 [0, 2, 0],\n",
    "                 [0, 0, 3],\n",
    "                 [1, 1, 1]])\n",
    "\n",
    "x = jnp.array([1, 1, 1])\n",
    "ref_norm = jnp.linalg.norm(ref, axis=1)\n",
    "jnp.linalg.norm(jnp.cross(x, ref), axis=1) / ref_norm"
   ]
  },
  {
   "cell_type": "code",
   "execution_count": 73,
   "metadata": {},
   "outputs": [
    {
     "data": {
      "text/plain": [
       "Array([[1, 2, 3],\n",
       "       [3, 2, 3],\n",
       "       [7, 7, 7],\n",
       "       [3, 2, 1]], dtype=int32)"
      ]
     },
     "execution_count": 73,
     "metadata": {},
     "output_type": "execute_result"
    }
   ],
   "source": [
    "x = jnp.array([[3, 2, 1],\n",
    "               [1, 2, 3],\n",
    "               [3, 2, 3],\n",
    "               [7, 7, 7]])\n",
    "y = jnp.array([3, 0, 1, 1])\n",
    "\n",
    "idx = jnp.argsort(y)\n",
    "# x = jnp.take_along_axis(x, idx[:, None], axis=0)\n",
    "\n",
    "x[idx]"
   ]
  },
  {
   "cell_type": "code",
   "execution_count": 138,
   "metadata": {},
   "outputs": [
    {
     "data": {
      "text/plain": [
       "Array([[nan, nan, nan],\n",
       "       [nan, nan, nan],\n",
       "       [nan, nan, nan],\n",
       "       [nan, nan, nan],\n",
       "       [nan, nan, nan]], dtype=float32, weak_type=True)"
      ]
     },
     "execution_count": 138,
     "metadata": {},
     "output_type": "execute_result"
    }
   ],
   "source": [
    "x = jnp.array([1, 2, 3, 2, 0, 1])\n",
    "\n",
    "jnp.argmin(x)\n",
    "\n",
    "x = x.at[0].set(jnp.argmin(x))\n",
    "\n",
    "jnp.full((5, 3), jnp.nan)"
   ]
  },
  {
   "cell_type": "code",
   "execution_count": null,
   "metadata": {},
   "outputs": [],
   "source": [
    "# weight = jnp.full((self.n_objs, self.n_objs), 1e-6) + jnp.eye(self.n_objs)\n",
    "# asf = weight @ merged_fitness.T\n",
    "# extreme = asf"
   ]
  }
 ],
 "metadata": {
  "kernelspec": {
   "display_name": "evox",
   "language": "python",
   "name": "python3"
  },
  "language_info": {
   "codemirror_mode": {
    "name": "ipython",
    "version": 3
   },
   "file_extension": ".py",
   "mimetype": "text/x-python",
   "name": "python",
   "nbconvert_exporter": "python",
   "pygments_lexer": "ipython3",
   "version": "3.9.16"
  },
  "orig_nbformat": 4
 },
 "nbformat": 4,
 "nbformat_minor": 2
}
