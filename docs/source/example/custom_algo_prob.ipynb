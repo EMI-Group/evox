{
 "cells": [
  {
   "cell_type": "markdown",
   "metadata": {},
   "source": [
    "# Custom algorithm and problem\n",
    "In this notebook, we will show how to use the Algorithm and Problem classes to create a custom algorithm and problem. Here we give an example of **implementing a PSO algorithm that solves the Sphere problem**.\n",
    "\n"
   ]
  },
  {
   "cell_type": "code",
   "execution_count": 6,
   "metadata": {},
   "outputs": [],
   "source": [
    "from typing import List\n",
    "\n",
    "import torch\n",
    "\n",
    "from evox.core import Algorithm, Mutable, Parameter, Problem, jit_class\n",
    "from evox.utils import clamp\n",
    "from evox.workflows import EvalMonitor, StdWorkflow"
   ]
  },
  {
   "cell_type": "markdown",
   "metadata": {},
   "source": [
    "## Algorithm example: PSO algorithm\n",
    "\n",
    "Particle Swarm Optimization (PSO) is a population-based metaheuristic algorithm inspired by the social behavior of birds and fish. It is widely used for solving continuous and discrete optimization problems.\n",
    "\n",
    "**Here is an implementation example of PSO algorithm in EvoX:**"
   ]
  },
  {
   "cell_type": "code",
   "execution_count": 7,
   "metadata": {},
   "outputs": [],
   "source": [
    "@jit_class\n",
    "class PSO(Algorithm):\n",
    "    #Initialize the PSO algorithm with the given parameters.\n",
    "    def __init__(\n",
    "        self,\n",
    "        pop_size: int,\n",
    "        lb: torch.Tensor,\n",
    "        ub: torch.Tensor,\n",
    "        w: float = 0.6,\n",
    "        phi_p: float = 2.5,\n",
    "        phi_g: float = 0.8,\n",
    "        device: torch.device | None = None,\n",
    "    ):\n",
    "        super().__init__()\n",
    "        assert lb.shape == ub.shape and lb.ndim == 1 and ub.ndim == 1 and lb.dtype == ub.dtype\n",
    "        self.pop_size = pop_size\n",
    "        self.dim = lb.shape[0]\n",
    "        # Here, Parameter is used to indicate that these values are hyper-parameters\n",
    "        # so that they can be correctly traced and vector-mapped\n",
    "        self.w = Parameter(w, device=device)\n",
    "        self.phi_p = Parameter(phi_p, device=device)\n",
    "        self.phi_g = Parameter(phi_g, device=device)\n",
    "        lb = lb[None, :].to(device=device)\n",
    "        ub = ub[None, :].to(device=device)\n",
    "        length = ub - lb\n",
    "        population = torch.rand(self.pop_size, self.dim, device=device)\n",
    "        population = length * population + lb\n",
    "        velocity = torch.rand(self.pop_size, self.dim, device=device)\n",
    "        velocity = 2 * length * velocity - length\n",
    "        self.lb = lb\n",
    "        self.ub = ub\n",
    "        # Mutable parameters\n",
    "        self.population = Mutable(population)\n",
    "        self.velocity = Mutable(velocity)\n",
    "        self.local_best_location = Mutable(population)\n",
    "        self.local_best_fitness = Mutable(torch.empty(self.pop_size, device=device).fill_(torch.inf))\n",
    "        self.global_best_location = Mutable(population[0])\n",
    "        self.global_best_fitness = Mutable(torch.tensor(torch.inf, device=device))\n",
    "\n",
    "    def step(self):\n",
    "        # Compute fitness\n",
    "        fitness = self.evaluate(self.population)\n",
    "\n",
    "        # Update the lbest and the gbest\n",
    "        compare = self.local_best_fitness - fitness\n",
    "        self.local_best_location = torch.where(\n",
    "            compare[:, None] > 0, self.population, self.local_best_location\n",
    "        )\n",
    "        self.local_best_fitness = self.local_best_fitness - torch.relu(compare)\n",
    "        self.global_best_location, self.global_best_fitness = self._min_by(\n",
    "            [self.global_best_location.unsqueeze(0), self.population],\n",
    "            [self.global_best_fitness.unsqueeze(0), fitness],\n",
    "        )\n",
    "\n",
    "        # Update the velocity\n",
    "        rg = torch.rand(self.pop_size, self.dim, dtype=fitness.dtype, device=fitness.device)\n",
    "        rp = torch.rand(self.pop_size, self.dim, dtype=fitness.dtype, device=fitness.device)\n",
    "        velocity = (\n",
    "            self.w * self.velocity\n",
    "            + self.phi_p * rp * (self.local_best_location - self.population)\n",
    "            + self.phi_g * rg * (self.global_best_location - self.population)\n",
    "        )\n",
    "\n",
    "        # Udpdate the population\n",
    "        population = self.population + velocity\n",
    "        self.population = clamp(population, self.lb, self.ub)\n",
    "        self.velocity = clamp(velocity, self.lb, self.ub)\n",
    "\n",
    "    def _min_by(self, values: List[torch.Tensor],keys: List[torch.Tensor],):\n",
    "        # Find the value with the minimum key\n",
    "        values = torch.cat(values, dim=0)\n",
    "        keys = torch.cat(keys, dim=0)\n",
    "        min_index = torch.argmin(keys)\n",
    "        return values[min_index], keys[min_index]"
   ]
  },
  {
   "cell_type": "markdown",
   "metadata": {},
   "source": [
    "## Problem example: Sphere problem\n",
    "\n",
    "The Sphere problem is a simple, yet fundamental benchmark optimization problem used to test optimization algorithms.\n",
    "\n",
    "The Sphere function is defined as:\n",
    "\n",
    "$$\n",
    "\\textbf{min} f(x)= \\sum_{i=1}^{n} x_{i}^{2}\n",
    "$$\n",
    "**Here is an implementation example of Sphere problem in EvoX:**"
   ]
  },
  {
   "cell_type": "code",
   "execution_count": 8,
   "metadata": {},
   "outputs": [],
   "source": [
    "class Sphere(Problem):\n",
    "    def __init__(self):\n",
    "        super().__init__()\n",
    "\n",
    "    def evaluate(self, pop: torch.Tensor):\n",
    "        return (pop**2).sum(-1)"
   ]
  },
  {
   "cell_type": "markdown",
   "metadata": {},
   "source": [
    "## Use the algorithm to solve the problem\n",
    "\n",
    "### Initiate the algorithm, problem and monitor"
   ]
  },
  {
   "cell_type": "code",
   "execution_count": 9,
   "metadata": {},
   "outputs": [],
   "source": [
    "algorithm = PSO(\n",
    "    pop_size=100,\n",
    "    lb=torch.tensor([-10.0]),\n",
    "    ub=torch.tensor([10.0]),\n",
    "    w=0.6,\n",
    "    phi_p=2.5,\n",
    "    phi_g=0.8,\n",
    "    )\n",
    "problem = Sphere()\n",
    "monitor = EvalMonitor(full_fit_history=False, full_sol_history=False)"
   ]
  },
  {
   "cell_type": "markdown",
   "metadata": {},
   "source": [
    "### Initiate the workflow and run it"
   ]
  },
  {
   "cell_type": "code",
   "execution_count": 10,
   "metadata": {},
   "outputs": [
    {
     "data": {
      "text/plain": [
       "tensor([1.6247e-08])"
      ]
     },
     "execution_count": 10,
     "metadata": {},
     "output_type": "execute_result"
    }
   ],
   "source": [
    "workflow = StdWorkflow()\n",
    "workflow.setup(\n",
    "    algorithm=algorithm,\n",
    "    problem=problem,\n",
    "    monitor=monitor\n",
    "    )\n",
    "\n",
    "for _ in range(100):\n",
    "    workflow.step()\n",
    "workflow.get_submodule(\"monitor\").topk_fitness"
   ]
  }
 ],
 "metadata": {
  "kernelspec": {
   "display_name": "evoxtorch",
   "language": "python",
   "name": "python3"
  },
  "language_info": {
   "codemirror_mode": {
    "name": "ipython",
    "version": 3
   },
   "file_extension": ".py",
   "mimetype": "text/x-python",
   "name": "python",
   "nbconvert_exporter": "python",
   "pygments_lexer": "ipython3",
   "version": "3.12.8"
  }
 },
 "nbformat": 4,
 "nbformat_minor": 2
}
