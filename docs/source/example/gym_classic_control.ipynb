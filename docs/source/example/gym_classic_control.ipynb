{
 "cells": [
  {
   "cell_type": "markdown",
   "metadata": {},
   "source": [
    "# Classic control with Gym\n",
    "\n",
    "In this notebook, we will use the Gym to train an agent that solves classic control problems."
   ]
  },
  {
   "cell_type": "code",
   "execution_count": 1,
   "metadata": {},
   "outputs": [],
   "source": [
    "# install evox, skip it if you have already installed evox\n",
    "try:\n",
    "    import evox\n",
    "except ImportError:\n",
    "    !pip install --disable-pip-version-check --upgrade -q evox gymnasium flax\n",
    "    import evox"
   ]
  },
  {
   "cell_type": "code",
   "execution_count": 2,
   "metadata": {},
   "outputs": [],
   "source": [
    "from evox import workflows, algorithms, problems\n",
    "from evox.monitors import StdSOMonitor\n",
    "from evox.utils import TreeAndVector\n",
    "import jax\n",
    "import jax.numpy as jnp\n",
    "from flax import linen as nn"
   ]
  },
  {
   "cell_type": "code",
   "execution_count": 3,
   "metadata": {},
   "outputs": [],
   "source": [
    "gym_name = \"Pendulum-v1\" # choose a setup\n",
    "\n",
    "def tanh2(x):\n",
    "    return 2 * nn.tanh(x)\n",
    "\n",
    "policy_params = {\n",
    "    \"Acrobot-v1\": (3, (6,), jnp.argmax),\n",
    "    \"CartPole-v1\": (2, (4,), jnp.argmax),\n",
    "    \"MountainCarContinuous-v0\": (1, (2,), nn.tanh),\n",
    "    \"MountainCar-v0\": (3, (2,), jnp.argmax),\n",
    "    \"Pendulum-v1\": (1, (3,), tanh2),\n",
    "}"
   ]
  },
  {
   "cell_type": "code",
   "execution_count": 4,
   "metadata": {},
   "outputs": [],
   "source": [
    "# define a policy model\n",
    "class ClassicPolicy(nn.Module):\n",
    "    \"\"\"A simple model for Classic Control problem\"\"\"\n",
    "\n",
    "    @nn.compact\n",
    "    def __call__(self, x):\n",
    "        x = x.at[1].multiply(10)  # normalization\n",
    "        x = nn.Dense(16)(x)\n",
    "        x = nn.relu(x)\n",
    "        x = nn.Dense(policy_params[gym_name][0])(x)\n",
    "\n",
    "        return policy_params[gym_name][2](x)"
   ]
  },
  {
   "cell_type": "code",
   "execution_count": 5,
   "metadata": {},
   "outputs": [
    {
     "name": "stderr",
     "output_type": "stream",
     "text": [
      "2023-10-24 15:54:46,501\tINFO worker.py:1553 -- Started a local Ray instance.\n"
     ]
    }
   ],
   "source": [
    "key = jax.random.PRNGKey(42)\n",
    "model_key, workflow_key = jax.random.split(key)\n",
    "\n",
    "model = ClassicPolicy()\n",
    "params = model.init(model_key, jnp.zeros(policy_params[gym_name][1]))\n",
    "adapter = TreeAndVector(params)\n",
    "monitor = StdSOMonitor()\n",
    "problem = problems.neuroevolution.Gym(\n",
    "    env_name=gym_name,\n",
    "    policy=jax.jit(model.apply),\n",
    "    num_workers=16, # adjust according to your need\n",
    "    controller_options={\n",
    "        \"num_cpus\": 0,\n",
    "        \"num_gpus\": 0,\n",
    "    },\n",
    "    worker_options={\"num_cpus\": 1, \"num_gpus\": 1 / 16},\n",
    "    batch_policy=False,\n",
    ")\n",
    "center = adapter.to_vector(params)\n",
    "# create a workflow\n",
    "workflow = workflows.StdWorkflow(\n",
    "    algorithm=algorithms.CMAES(center_init=center, init_stdev=1, pop_size=64),\n",
    "    problem=problem,\n",
    "    pop_transform=adapter.batched_to_tree,\n",
    "    monitor=monitor,\n",
    "    opt_direction=\"max\"\n",
    ")"
   ]
  },
  {
   "cell_type": "markdown",
   "metadata": {},
   "source": [
    "Now run the workflow.\n",
    "You may see warnings like\n",
    "```\n",
    "CUDA backend failed to initialize: Unable to load CUDA.\n",
    "```\n",
    "This is expected behaivor, because we have a controller thread that manages a group of Gym workers,\n",
    "and the controller thread does not use GPU.\n",
    "\n",
    "If the program stucks, you may want to check whether is `num_workers` is larger than the number of available cores on your computer."
   ]
  },
  {
   "cell_type": "code",
   "execution_count": 6,
   "metadata": {},
   "outputs": [
    {
     "name": "stderr",
     "output_type": "stream",
     "text": [
      "\u001b[2m\u001b[36m(Controller pid=641434)\u001b[0m CUDA backend failed to initialize: Unable to load CUDA. (Set TF_CPP_MIN_LOG_LEVEL=0 and rerun for more info.)\n"
     ]
    },
    {
     "name": "stdout",
     "output_type": "stream",
     "text": [
      "-0.114485\n"
     ]
    }
   ],
   "source": [
    "# init the workflow\n",
    "state = workflow.init(workflow_key)\n",
    "# run the workflow for 100 steps\n",
    "for i in range(100):\n",
    "    state = workflow.step(state)\n",
    "\n",
    "best_fitness = monitor.get_best_fitness()\n",
    "print(best_fitness)"
   ]
  },
  {
   "cell_type": "code",
   "execution_count": null,
   "metadata": {},
   "outputs": [],
   "source": []
  }
 ],
 "metadata": {
  "kernelspec": {
   "display_name": "venv",
   "language": "python",
   "name": "python3"
  },
  "language_info": {
   "codemirror_mode": {
    "name": "ipython",
    "version": 3
   },
   "file_extension": ".py",
   "mimetype": "text/x-python",
   "name": "python",
   "nbconvert_exporter": "python",
   "pygments_lexer": "ipython3",
   "version": "3.10.12"
  },
  "orig_nbformat": 4
 },
 "nbformat": 4,
 "nbformat_minor": 2
}
