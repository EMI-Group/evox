{
 "cells": [
  {
   "cell_type": "markdown",
   "metadata": {},
   "source": [
    "# Quick Start\n",
    "\n",
    "In this notebook, we will guide you through the basic steps of using EvoX."
   ]
  },
  {
   "cell_type": "code",
   "execution_count": 2,
   "metadata": {},
   "outputs": [],
   "source": [
    "# install evox, skip it if you have already installed evox\n",
    "try:\n",
    "    import evox\n",
    "except ImportError:\n",
    "    !pip install --disable-pip-version-check --upgrade -q evox\n",
    "    import evox"
   ]
  },
  {
   "cell_type": "code",
   "execution_count": 3,
   "metadata": {},
   "outputs": [],
   "source": [
    "from evox import algorithms, problems, workflows, monitors\n",
    "\n",
    "import jax.numpy as jnp\n",
    "from jax import random"
   ]
  },
  {
   "cell_type": "markdown",
   "metadata": {},
   "source": [
    "## Create an algorithm and a problem"
   ]
  },
  {
   "cell_type": "markdown",
   "metadata": {},
   "source": [
    "To demostrate, we will create a PSO algorithm and an Ackley function.\n",
    "\n",
    "For more detailed list, please refer to our API documentation. [List of Algorithms](https://evox.readthedocs.io/en/latest/api/algorithms/index.html) and [List of Problems](https://evox.readthedocs.io/en/latest/api/problems/index.html)."
   ]
  },
  {
   "cell_type": "code",
   "execution_count": 4,
   "metadata": {},
   "outputs": [],
   "source": [
    "pso = algorithms.PSO(\n",
    "    lb=jnp.full(shape=(2,), fill_value=-32),\n",
    "    ub=jnp.full(shape=(2,), fill_value=32),\n",
    "    pop_size=100,\n",
    ")\n",
    "ackley = problems.numerical.Ackley()"
   ]
  },
  {
   "cell_type": "markdown",
   "metadata": {},
   "source": [
    "Now we want to run the algorithm against the problem.\n",
    "To accomplish this, we need to create a `workflow` which represents the overall process of evolutionary computation."
   ]
  },
  {
   "cell_type": "code",
   "execution_count": 5,
   "metadata": {},
   "outputs": [],
   "source": [
    "workflow = workflows.StdWorkflow(pso, ackley)"
   ]
  },
  {
   "cell_type": "markdown",
   "metadata": {},
   "source": [
    "Since we adopt the functional programming paradigm.\n",
    "We must explicitly initialize and use the state of a module.\n",
    "To initialize, call `init` with a pseudorandom number generators key (PRNGKey)."
   ]
  },
  {
   "cell_type": "code",
   "execution_count": 6,
   "metadata": {},
   "outputs": [],
   "source": [
    "key = random.PRNGKey(42)\n",
    "state = workflow.init(key)"
   ]
  },
  {
   "cell_type": "markdown",
   "metadata": {},
   "source": [
    "The `state` represents the mutatable variables within the whole workflow, including those inside the algorithm and the problem. For example, the `population` in an algorithm is part of the `state`, because it will be changing across iterations."
   ]
  },
  {
   "cell_type": "markdown",
   "metadata": {},
   "source": [
    "Now, call `step` on the workflow to execute one iteration."
   ]
  },
  {
   "cell_type": "code",
   "execution_count": 7,
   "metadata": {},
   "outputs": [],
   "source": [
    "state = workflow.step(state)"
   ]
  },
  {
   "cell_type": "markdown",
   "metadata": {},
   "source": [
    "To run multiple iterations, wrap it inside a for-loop."
   ]
  },
  {
   "cell_type": "code",
   "execution_count": 8,
   "metadata": {},
   "outputs": [],
   "source": [
    "# run the workflow for 100 steps\n",
    "for i in range(100):\n",
    "    state = workflow.step(state)"
   ]
  },
  {
   "cell_type": "markdown",
   "metadata": {},
   "source": [
    "Notice that we are passing `state` as an argument of `step` and it returns a new `state`. This is exactly how the stateful computation works in functional programming."
   ]
  },
  {
   "cell_type": "markdown",
   "metadata": {},
   "source": [
    "And you may also notice that the `step` doesn't give any feedback, like the result of the optimization. This is because we are missing another component in our workflow.\n",
    "Introducing `monitor`."
   ]
  },
  {
   "cell_type": "markdown",
   "metadata": {},
   "source": [
    "## Monitor\n",
    "\n",
    "Monitor is a standard way to monitor the intermediate values inside a optimization process. Information like fitness or population can be easily obtained by the monitor."
   ]
  },
  {
   "cell_type": "markdown",
   "metadata": {},
   "source": [
    "Now, create a \"Standard single-objective monitor\""
   ]
  },
  {
   "cell_type": "code",
   "execution_count": 9,
   "metadata": {},
   "outputs": [],
   "source": [
    "monitor = monitors.StdSOMonitor()"
   ]
  },
  {
   "cell_type": "markdown",
   "metadata": {},
   "source": [
    "The monitor can be plugged into the workflow."
   ]
  },
  {
   "cell_type": "code",
   "execution_count": 10,
   "metadata": {},
   "outputs": [],
   "source": [
    "workflow = workflows.StdWorkflow(\n",
    "    pso,\n",
    "    ackley,\n",
    "    monitors=[monitor],\n",
    ")"
   ]
  },
  {
   "cell_type": "markdown",
   "metadata": {},
   "source": [
    "Now, re-initialize the workflow, and executed it again."
   ]
  },
  {
   "cell_type": "code",
   "execution_count": 11,
   "metadata": {},
   "outputs": [],
   "source": [
    "# init the workflow\n",
    "state = workflow.init(key)\n",
    "# run the workflow for 5 steps\n",
    "for i in range(5):\n",
    "    state = workflow.step(state)"
   ]
  },
  {
   "cell_type": "markdown",
   "metadata": {},
   "source": [
    "This time, we can access the minimum fitness achieved through the `monitor`."
   ]
  },
  {
   "cell_type": "code",
   "execution_count": 12,
   "metadata": {},
   "outputs": [
    {
     "data": {
      "text/plain": [
       "Array(4.297701, dtype=float32)"
      ]
     },
     "execution_count": 12,
     "metadata": {},
     "output_type": "execute_result"
    }
   ],
   "source": [
    "# since monitor works asynchronously\n",
    "# flush make sure all the data is collected\n",
    "monitor.flush()\n",
    "monitor.get_best_fitness()"
   ]
  },
  {
   "cell_type": "markdown",
   "metadata": {},
   "source": [
    "Execute another 5 iterations, and the minimum fitness will change accordingly."
   ]
  },
  {
   "cell_type": "code",
   "execution_count": 13,
   "metadata": {},
   "outputs": [
    {
     "data": {
      "text/plain": [
       "Array(1.2975216, dtype=float32)"
      ]
     },
     "execution_count": 13,
     "metadata": {},
     "output_type": "execute_result"
    }
   ],
   "source": [
    "for i in range(5):\n",
    "    state = workflow.step(state)\n",
    "\n",
    "# since we run another 5 iterations, the result will get better.\n",
    "monitor.flush()\n",
    "monitor.get_best_fitness()"
   ]
  },
  {
   "cell_type": "markdown",
   "metadata": {},
   "source": [
    "To record information related to the population as well, turn on `record_pop` option in the workflow.\n",
    "\n",
    "This will cause the population be sent to the monitor as well, and the monitor can then determine the best solution on the fly.\n",
    "\n",
    "Please note that when the population size is very large, is option can harm the overall performance."
   ]
  },
  {
   "cell_type": "code",
   "execution_count": 14,
   "metadata": {},
   "outputs": [],
   "source": [
    "# create a new monitor and workflow\n",
    "monitor = monitors.StdSOMonitor()\n",
    "workflow = workflows.StdWorkflow(\n",
    "    pso,\n",
    "    ackley,\n",
    "    monitors=[monitor],\n",
    "    record_pop = True, # <- use this!\n",
    ")\n",
    "\n",
    "state = workflow.init(key)\n",
    "for i in range(10):\n",
    "    state = workflow.step(state)"
   ]
  },
  {
   "cell_type": "code",
   "execution_count": 15,
   "metadata": {},
   "outputs": [
    {
     "data": {
      "text/plain": [
       "Array(1.2975216, dtype=float32)"
      ]
     },
     "execution_count": 15,
     "metadata": {},
     "output_type": "execute_result"
    }
   ],
   "source": [
    "monitor.flush()\n",
    "monitor.get_best_fitness()"
   ]
  },
  {
   "cell_type": "code",
   "execution_count": 16,
   "metadata": {},
   "outputs": [
    {
     "data": {
      "text/plain": [
       "Array([-0.02271652, -0.19201761], dtype=float32)"
      ]
     },
     "execution_count": 16,
     "metadata": {},
     "output_type": "execute_result"
    }
   ],
   "source": [
    "monitor.get_best_solution()"
   ]
  },
  {
   "cell_type": "markdown",
   "metadata": {},
   "source": [
    "It show the best solution is (-0.02271652, -0.19201761), which is close to the global minimum at (0,0). 🥳\n",
    "\n",
    "Additionally, please note that the best fitness remains the same as last time. This is because we are using the same `key` when initializing the workflow as before. This deterministic behavior in EvoX allows others to easily reproduce your results."
   ]
  },
  {
   "cell_type": "markdown",
   "metadata": {},
   "source": []
  }
 ],
 "metadata": {
  "kernelspec": {
   "display_name": "venv",
   "language": "python",
   "name": "python3"
  },
  "language_info": {
   "codemirror_mode": {
    "name": "ipython",
    "version": 3
   },
   "file_extension": ".py",
   "mimetype": "text/x-python",
   "name": "python",
   "nbconvert_exporter": "python",
   "pygments_lexer": "ipython3",
   "version": "2.7.0"
  },
  "orig_nbformat": 4
 },
 "nbformat": 4,
 "nbformat_minor": 2
}
