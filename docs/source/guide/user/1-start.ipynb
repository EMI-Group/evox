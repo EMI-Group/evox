{
 "cells": [
  {
   "cell_type": "markdown",
   "metadata": {},
   "source": [
    "# Quick Start\n",
    "\n",
    "In this notebook, we will help you be familiar with Evox through an simple example.\n",
    "\n",
    "To start with, make sure you have already installed the EvoX."
   ]
  },
  {
   "cell_type": "code",
   "execution_count": 30,
   "metadata": {},
   "outputs": [],
   "source": [
    "# install evox, skip it if you have already installed evox\n",
    "try:\n",
    "    import evox\n",
    "except ImportError:\n",
    "    !pip install --disable-pip-version-check --upgrade -q evox\n",
    "    import evox"
   ]
  },
  {
   "cell_type": "code",
   "execution_count": 31,
   "metadata": {},
   "outputs": [],
   "source": [
    "# the dependent packages or functions in this example\n",
    "from typing import List\n",
    "\n",
    "import torch\n",
    "\n",
    "from evox.algorithms import PSO\n",
    "# from evox.problems import Ackley\n",
    "from evox.workflows import EvalMonitor, StdWorkflow\n",
    "from evox.core import Problem"
   ]
  },
  {
   "cell_type": "markdown",
   "metadata": {},
   "source": [
    "## Create an algorithm and a problem\n",
    "\n",
    "EvoX offers a comprehensive suite of 50+ Evolutionary Algorithms (EAs) and a wide range of 100+ Benchmark Problems/Environments, all benefiting from distributed GPU-acceleration. \n",
    "\n",
    "Here we will create a PSO algorithm and an Ackley function.\n",
    "\n",
    "For more detailed list, please refer to our API documentation. [List of Algorithms](https://evox.readthedocs.io/en/latest/api/algorithms/index.html) and [List of Problems](https://evox.readthedocs.io/en/latest/api/problems/index.html)."
   ]
  },
  {
   "cell_type": "code",
   "execution_count": 32,
   "metadata": {},
   "outputs": [],
   "source": [
    "class Sphere(Problem):\n",
    "    def __init__(self):\n",
    "        super().__init__()\n",
    "\n",
    "    def evaluate(self, pop: torch.Tensor):\n",
    "        return (pop**2).sum(-1)\n",
    "    \n",
    "algorithm = PSO(\n",
    "    pop_size=100,\n",
    "    lb=torch.tensor([-10.0]),\n",
    "    ub=torch.tensor([10.0]),\n",
    "    w=0.6,\n",
    "    phi_p=2.5,\n",
    "    phi_g=0.8,\n",
    "    )\n",
    "problem = Sphere()"
   ]
  },
  {
   "cell_type": "markdown",
   "metadata": {},
   "source": [
    "## Create an workflow\n",
    "\n",
    "Now we want to run the algorithm and solve the problem.\n",
    "\n",
    "To accomplish this, we need to create a \"**workflow**\" of the `Workflow` class.\n",
    "\n",
    "A workflow outlines the series of steps required to accomplish a task or project. In EvoX, a workflow represents the overall process of evolutionary computation. "
   ]
  },
  {
   "cell_type": "code",
   "execution_count": 33,
   "metadata": {},
   "outputs": [],
   "source": [
    "workflow = StdWorkflow()\n",
    "workflow.setup(\n",
    "    algorithm=algorithm,\n",
    "    problem=problem,\n",
    "    )"
   ]
  },
  {
   "cell_type": "markdown",
   "metadata": {},
   "source": [
    "Since we adopt the functional programming paradigm. We must explicitly initialize and use the state of a module."
   ]
  },
  {
   "cell_type": "code",
   "execution_count": 34,
   "metadata": {},
   "outputs": [],
   "source": [
    "for _ in range(100):\n",
    "    workflow.step()"
   ]
  },
  {
   "cell_type": "markdown",
   "metadata": {},
   "source": [
    "Notice that we are passing state as an argument of step and it returns a new state. This is exactly how the stateful computation works in functional programming.\n",
    "\n",
    "And you may also notice that the step doesn’t give any feedback, like the result of the optimization. This is because we are missing another component in our workflow. Introducing monitor.\n",
    "\n",
    "## Set an Monitor\n",
    "\n",
    "Monitor is a standard class in EvoX to monitor the intermediate values inside a optimization process. Information like fitness or population can be easily obtained by the monitor.\n",
    "\n",
    "Now, create a “Evalution monitor”:"
   ]
  },
  {
   "cell_type": "code",
   "execution_count": 35,
   "metadata": {},
   "outputs": [],
   "source": [
    "monitor = EvalMonitor()"
   ]
  },
  {
   "cell_type": "markdown",
   "metadata": {},
   "source": [
    "The monitor can be plugged into the workflow."
   ]
  },
  {
   "cell_type": "code",
   "execution_count": 36,
   "metadata": {},
   "outputs": [],
   "source": [
    "workflow.setup(\n",
    "    algorithm=algorithm,\n",
    "    problem=problem,\n",
    "    monitor=monitor,\n",
    "    )"
   ]
  },
  {
   "cell_type": "markdown",
   "metadata": {},
   "source": [
    "Now, re-initialize the workflow, and executed it again."
   ]
  },
  {
   "cell_type": "code",
   "execution_count": 37,
   "metadata": {},
   "outputs": [
    {
     "name": "stdout",
     "output_type": "stream",
     "text": [
      "tensor([0.0008])\n",
      "tensor([0.0008])\n",
      "tensor([0.0008])\n",
      "tensor([0.0005])\n",
      "tensor([0.0005])\n",
      "tensor([0.0005])\n",
      "tensor([2.3342e-05])\n",
      "tensor([2.3342e-05])\n",
      "tensor([1.6017e-05])\n",
      "tensor([1.3345e-05])\n"
     ]
    }
   ],
   "source": [
    "for _ in range(10):\n",
    "    workflow.step()\n",
    "    print(workflow.get_submodule(\"monitor\").topk_fitness.float())"
   ]
  }
 ],
 "metadata": {
  "kernelspec": {
   "display_name": "evoxtorch",
   "language": "python",
   "name": "python3"
  },
  "language_info": {
   "codemirror_mode": {
    "name": "ipython",
    "version": 3
   },
   "file_extension": ".py",
   "mimetype": "text/x-python",
   "name": "python",
   "nbconvert_exporter": "python",
   "pygments_lexer": "ipython3",
   "version": "3.12.8"
  }
 },
 "nbformat": 4,
 "nbformat_minor": 2
}
