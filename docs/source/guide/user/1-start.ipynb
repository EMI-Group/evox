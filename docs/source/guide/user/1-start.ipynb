{
 "cells": [
  {
   "cell_type": "markdown",
   "metadata": {},
   "source": [
    "# Quick Start\n",
    "\n",
    "In this notebook, we will help you be familiar with Evox through an simple example.\n",
    "\n",
    "To start with, make sure you have already installed the EvoX."
   ]
  },
  {
   "cell_type": "code",
   "execution_count": 1,
   "metadata": {},
   "outputs": [],
   "source": [
    "# install evox, skip it if you have already installed evox\n",
    "try:\n",
    "    import evox\n",
    "except ImportError:\n",
    "    !pip install --disable-pip-version-check --upgrade -q evox\n",
    "    import evox"
   ]
  },
  {
   "cell_type": "code",
   "execution_count": 2,
   "metadata": {},
   "outputs": [],
   "source": [
    "# the dependent packages or functions in this example\n",
    "from typing import List\n",
    "import time\n",
    "\n",
    "import torch\n",
    "\n",
    "from evox.algorithms import PSO\n",
    "# from evox.problems import Ackley\n",
    "from evox.workflows import EvalMonitor, StdWorkflow\n",
    "from evox.core import Problem"
   ]
  },
  {
   "cell_type": "markdown",
   "metadata": {},
   "source": [
    "## The basic running process in EvoX\n",
    "\n",
    "As a distributed GPU-accelerated framework for scalable evolutionary computation, EvoX can be uesd to do many kinds computations, so we say \"EvoX is all you need\". Though many kinds of computaions are different more or less, in EvoX we standard the basic running process:\n",
    "\n",
    "<div align='center'>\n",
    "    <b>Initiate an algorithm and a problem -- Set an monitor -- Initiate a workflow -- Run the workflow</b>\n",
    "</div>\n",
    "\n",
    "\n",
    "## Initiate an algorithm and a problem\n",
    "\n",
    "EvoX offers a comprehensive suite of 50+ Evolutionary Algorithms (EAs) and a wide range of 100+ Benchmark Problems/Environments, all benefiting from distributed GPU-acceleration. \n",
    "\n",
    "For more details, please refer to our API documentation. [List of Algorithms](https://evox.readthedocs.io/en/latest/api/algorithms/index.html) and [List of Problems](https://evox.readthedocs.io/en/latest/api/problems/index.html).\n",
    "\n",
    "Here we will create a PSO algorithm and an Ackley function."
   ]
  },
  {
   "cell_type": "code",
   "execution_count": 3,
   "metadata": {},
   "outputs": [],
   "source": [
    "# Initiate a problem\n",
    "class Sphere(Problem):\n",
    "    def __init__(self):\n",
    "        super().__init__()\n",
    "\n",
    "    def evaluate(self, pop: torch.Tensor):\n",
    "        return (pop**2).sum(-1)\n",
    "\n",
    "# Initiate an algorithm\n",
    "algorithm = PSO(\n",
    "    pop_size=100,\n",
    "    lb=torch.tensor([-10.0]),\n",
    "    ub=torch.tensor([10.0]),\n",
    "    w=0.6,\n",
    "    phi_p=2.5,\n",
    "    phi_g=0.8,\n",
    "    )\n",
    "\n",
    "# Initiate a problem\n",
    "problem = Sphere()"
   ]
  },
  {
   "cell_type": "markdown",
   "metadata": {},
   "source": [
    "Notice that the algorithm and problem themselves do not contain the monitoring of the steps, so we will not get any feed back only denpending on them. It turns out that we still need a **monitor**.\n",
    "\n",
    "## Set an monitor\n",
    "\n",
    "``Monitor`` is a standard class in EvoX to monitor the intermediate values inside a optimization process. Information like fitness or population can be easily obtained by the monitor.\n",
    "\n",
    "Doing is better than saying, so let us create a “Evalution monitor”:"
   ]
  },
  {
   "cell_type": "code",
   "execution_count": 4,
   "metadata": {},
   "outputs": [],
   "source": [
    "# Set an monitor\n",
    "monitor = EvalMonitor()"
   ]
  },
  {
   "cell_type": "markdown",
   "metadata": {},
   "source": [
    "## Initiate an workflow\n",
    "\n",
    "A **workflow** outlines the series of steps required to accomplish a task or project. In EvoX, a workflow represents the overall process of evolutionary computation, putting the algorithm, problem, monitor together.\n",
    "\n",
    "If we want to run the algorithm to solve the problem with a monitor, we need to create a workflow of the `Workflow` class."
   ]
  },
  {
   "cell_type": "code",
   "execution_count": 5,
   "metadata": {},
   "outputs": [],
   "source": [
    "# Initiate an workflow\n",
    "workflow = StdWorkflow()\n",
    "workflow.setup(\n",
    "    algorithm=algorithm,\n",
    "    problem=problem,\n",
    "    monitor=monitor,\n",
    "    )"
   ]
  },
  {
   "cell_type": "markdown",
   "metadata": {},
   "source": [
    "## Run the workflow\n",
    "\n",
    "Now, we can run the workflow:"
   ]
  },
  {
   "cell_type": "code",
   "execution_count": 6,
   "metadata": {},
   "outputs": [
    {
     "name": "stdout",
     "output_type": "stream",
     "text": [
      "The top fitness is tensor([3.4406e-06]) in 0.1155 seconds at the 10th generation.\n",
      "The top fitness is tensor([2.7953e-08]) in 0.1195 seconds at the 20th generation.\n",
      "The top fitness is tensor([2.7953e-08]) in 0.1215 seconds at the 30th generation.\n",
      "The top fitness is tensor([2.7953e-08]) in 0.1235 seconds at the 40th generation.\n",
      "The top fitness is tensor([2.7953e-08]) in 0.1255 seconds at the 50th generation.\n",
      "The top fitness is tensor([2.2696e-10]) in 0.1265 seconds at the 60th generation.\n",
      "The top fitness is tensor([1.7826e-10]) in 0.1285 seconds at the 70th generation.\n",
      "The top fitness is tensor([1.7826e-10]) in 0.1305 seconds at the 80th generation.\n",
      "The top fitness is tensor([1.7826e-10]) in 0.1325 seconds at the 90th generation.\n",
      "The top fitness is tensor([1.7826e-10]) in 0.1345 seconds at the 100th generation.\n"
     ]
    }
   ],
   "source": [
    "start = time.time()\n",
    "\n",
    "# Run the workflow\n",
    "for i in range(1,101):\n",
    "    workflow.step()\n",
    "    if i % 10 == 0:\n",
    "        run_time = time.time() - start\n",
    "        top_fitness = workflow.get_submodule(\"monitor\").topk_fitness\n",
    "        print(f\"The top fitness is {top_fitness} in {run_time:.4f} seconds at the {i}th generation.\")"
   ]
  },
  {
   "cell_type": "markdown",
   "metadata": {},
   "source": [
    "Congretulations if you can reproduce the Quick Start demo! Hope you enjoy the EvoX!"
   ]
  }
 ],
 "metadata": {
  "kernelspec": {
   "display_name": "evoxtorch",
   "language": "python",
   "name": "python3"
  },
  "language_info": {
   "codemirror_mode": {
    "name": "ipython",
    "version": 3
   },
   "file_extension": ".py",
   "mimetype": "text/x-python",
   "name": "python",
   "nbconvert_exporter": "python",
   "pygments_lexer": "ipython3",
   "version": "3.12.8"
  }
 },
 "nbformat": 4,
 "nbformat_minor": 2
}
